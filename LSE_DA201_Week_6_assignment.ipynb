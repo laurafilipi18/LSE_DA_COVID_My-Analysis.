{
 "cells": [
  {
   "cell_type": "markdown",
   "metadata": {},
   "source": [
    "### LSE Data Analytics Online Career Accelerator\n",
    "\n",
    "# DA201: Data Analytics using Python"
   ]
  },
  {
   "cell_type": "markdown",
   "metadata": {},
   "source": [
    "## Week 6: Assignment (Partial notebook)\n",
    "\n",
    "The government employed an external consultant to assist with data analysis. However, the consultant resigned and left the project in a half-completed state. The government provided you with the partially completed Jupyter Notebook that the consultant developed. They asked you to evaluate and complete the Jupyter Notebook with Python code.\n",
    "\n",
    "This assignment activity will consist of two parts: (1) demonstrate the use of the functions provided, and (2) answer additional questions posed by the government. The questions are:\n",
    "\n",
    "- What is the difference between qualitative and quantitative data? How can these be used in business predictions?\n",
    "- Why is continuous improvement required? Can we not just implement the project and move on to other pressing matters?\n",
    "- As a government, we adhere to all data protection requirements and have good governance in place. We only work with aggregated data and therefore will not expose any personal details. Does that mean we can ignore data ethics?"
   ]
  },
  {
   "cell_type": "code",
   "execution_count": 15,
   "metadata": {},
   "outputs": [],
   "source": [
    "# Libraries and settings\n",
    "import numpy as np\n",
    "import pandas as pd\n",
    "import matplotlib.pyplot as plt\n",
    "\n",
    "%matplotlib inline"
   ]
  },
  {
   "cell_type": "code",
   "execution_count": 21,
   "metadata": {},
   "outputs": [
    {
     "name": "stdout",
     "output_type": "stream",
     "text": [
      "     Province/State        Date  Hospitalised\n",
      "0          Anguilla  2020-01-22           0.0\n",
      "1          Anguilla  2020-01-23           0.0\n",
      "2          Anguilla  2020-01-24           0.0\n",
      "3          Anguilla  2020-01-25           0.0\n",
      "4          Anguilla  2020-01-26           0.0\n",
      "...             ...         ...           ...\n",
      "7579         Others  2021-10-10         378.0\n",
      "7580         Others  2021-10-11         386.0\n",
      "7581         Others  2021-10-12         386.0\n",
      "7582         Others  2021-10-13           0.0\n",
      "7583         Others  2021-10-14           0.0\n",
      "\n",
      "[7584 rows x 3 columns]\n"
     ]
    }
   ],
   "source": [
    "# Load and select relevant subset of the data\n",
    "# Make sure to change the relative path to function in your environment\n",
    "ds1 = pd.read_csv (r'C:\\Users\\laura\\OneDrive\\Desktop\\Assigment 2ndModule\\data\\covid_19_uk_cases.csv')\n",
    "ds2 = pd.read_csv (r'C:\\Users\\laura\\OneDrive\\Desktop\\Assigment 2ndModule\\data\\covid_19_uk_vaccinated.csv')\n",
    "\n",
    "sample = ds1[['Province/State','Date','Hospitalised']]\n",
    "\n",
    "print (sample)"
   ]
  },
  {
   "cell_type": "code",
   "execution_count": 22,
   "metadata": {},
   "outputs": [
    {
     "name": "stdout",
     "output_type": "stream",
     "text": [
      "       Province/State        Date  Hospitalised\n",
      "2528  Channel Islands  2020-01-22           0.0\n",
      "2529  Channel Islands  2020-01-23           0.0\n",
      "2530  Channel Islands  2020-01-24           0.0\n",
      "2531  Channel Islands  2020-01-25           0.0\n",
      "2532  Channel Islands  2020-01-26           0.0\n",
      "...               ...         ...           ...\n",
      "3155  Channel Islands  2021-10-10         481.0\n",
      "3156  Channel Islands  2021-10-11         491.0\n",
      "3157  Channel Islands  2021-10-12         491.0\n",
      "3158  Channel Islands  2021-10-13           0.0\n",
      "3159  Channel Islands  2021-10-14           0.0\n",
      "\n",
      "[632 rows x 3 columns]\n"
     ]
    }
   ],
   "source": [
    "# Select data for a specific province\n",
    "sample_ci = sample[sample['Province/State'] == \"Channel Islands\"]\n",
    "\n",
    "print (sample_ci)"
   ]
  },
  {
   "cell_type": "code",
   "execution_count": 3,
   "metadata": {},
   "outputs": [
    {
     "ename": "SyntaxError",
     "evalue": "invalid syntax (Temp/ipykernel_14604/855045611.py, line 3)",
     "output_type": "error",
     "traceback": [
      "\u001b[1;36m  File \u001b[1;32m\"C:\\Users\\laura\\AppData\\Local\\Temp/ipykernel_14604/855045611.py\"\u001b[1;36m, line \u001b[1;32m3\u001b[0m\n\u001b[1;33m    def plot_moving_average(sample_ci_copy, Hospitalised, 7, plot_intervals= True, scale=1.96):\u001b[0m\n\u001b[1;37m                                                          ^\u001b[0m\n\u001b[1;31mSyntaxError\u001b[0m\u001b[1;31m:\u001b[0m invalid syntax\n"
     ]
    }
   ],
   "source": [
    "# Define function to plot moving averages\n",
    "\n",
    "def plot_moving_average(sample_ci_copy, Hospitalised, 7, plot_intervals= True, scale=1.96):\n",
    "\n",
    "\n",
    "    # Create a rolling window to calculate the rolling mean using the series.rolling function\n",
    "    rolling_mean = series.rolling(window=window).mean()\n",
    "    \n",
    "    # Declare the dimensions for the plot, plot name and plot the data consisting of the rolling mean from above \n",
    "    plt.figure(figsize=(18,4))\n",
    "    plt.title('Moving average\\n window size = {}'.format(window))\n",
    "    plt.plot(rolling_mean, 'g', label='Simple moving average trend'\n",
    "    \n",
    "    # Plot confidence intervals for smoothed values\n",
    "    if plot_intervals:\n",
    "        \n",
    "        # Calculate the mean absolute square \n",
    "        mae = mean_absolute_error(series[window:], rolling_mean[window:])\n",
    "        \n",
    "        # Calculate the standard deviation using numpy's std function\n",
    "        deviation = np.std(series[window:] - rolling_mean[window:])\n",
    "        \n",
    "        # Calculate the upper and lower bounds \n",
    "        lower_bound = rolling_mean - (mae + scale * deviation)\n",
    "        upper_bound = rolling_mean + (mae + scale * deviation)\n",
    "        \n",
    "        # Name and style upper and lower bound lines and labels \n",
    "        plt.plot(upper_bound, 'r--', label='Upper bound / Lower bound')\n",
    "        plt.plot(lower_bound, 'r--')\n",
    "    \n",
    "    # Plot the actual values for the entire timeframe\n",
    "    plt.plot(series[window:], label=\"Actual values\")\n",
    "    plt.grid(True)\n",
    "             \n",
    "             \n",
    "\n",
    "\n",
    " \n",
    "\n",
    "            \n",
    "\n",
    "             \n",
    "             \n",
    "             "
   ]
  },
  {
   "cell_type": "code",
   "execution_count": 4,
   "metadata": {},
   "outputs": [],
   "source": [
    "# Define function to calculate the mean absolute error\n",
    "def mean_absolute_error(a, b): return abs(b - a)"
   ]
  },
  {
   "cell_type": "code",
   "execution_count": null,
   "metadata": {},
   "outputs": [],
   "source": [
    "### Question 1:\n",
    "\n",
    "#The consultant indicated that the function is functional, but did not demonstrate how to use it. \n",
    "#Use the provided function, `plot_moving_average()`, to plot the data for the selected province \n",
    "#(variable name is `sample_ci` and set the window parameter to 7 days. "
   ]
  },
  {
   "cell_type": "code",
   "execution_count": 6,
   "metadata": {},
   "outputs": [],
   "source": [
    "# Demonstrate the use of the function to plot moving averages\n",
    "\n",
    "# YOUR CODE HERE\n",
    "\n",
    "def plot_moving_average(sample_ci_copy, Hospitalised, 7, plot_intervals= True, scale=1.96):\n",
    "    \n",
    "#this is the code that should worked\n",
    "\n"
   ]
  },
  {
   "cell_type": "code",
   "execution_count": 1,
   "metadata": {},
   "outputs": [],
   "source": [
    "# Demonstrate the use of the function to plot moving averages\n",
    "\n",
    "\n",
    "\n",
    "# MODEL ANSWER END"
   ]
  },
  {
   "cell_type": "code",
   "execution_count": null,
   "metadata": {},
   "outputs": [],
   "source": []
  },
  {
   "cell_type": "markdown",
   "metadata": {},
   "source": [
    "### Question 2:\n",
    "\n",
    "The consultant performed a calculation that looks interesting, but the team is unsure about what the intention was and how to interpret the output. Can you offer some insights into the meaning of the code and output in the cell below? Is it useful?"
   ]
  },
  {
   "cell_type": "code",
   "execution_count": 9,
   "metadata": {},
   "outputs": [
    {
     "data": {
      "text/html": [
       "<div>\n",
       "<style scoped>\n",
       "    .dataframe tbody tr th:only-of-type {\n",
       "        vertical-align: middle;\n",
       "    }\n",
       "\n",
       "    .dataframe tbody tr th {\n",
       "        vertical-align: top;\n",
       "    }\n",
       "\n",
       "    .dataframe thead th {\n",
       "        text-align: right;\n",
       "    }\n",
       "</style>\n",
       "<table border=\"1\" class=\"dataframe\">\n",
       "  <thead>\n",
       "    <tr style=\"text-align: right;\">\n",
       "      <th></th>\n",
       "      <th>Province/State</th>\n",
       "      <th>Date</th>\n",
       "      <th>Hospitalised</th>\n",
       "      <th>error</th>\n",
       "    </tr>\n",
       "  </thead>\n",
       "  <tbody>\n",
       "    <tr>\n",
       "      <th>2593</th>\n",
       "      <td>Channel Islands</td>\n",
       "      <td>2020-03-27</td>\n",
       "      <td>509.0</td>\n",
       "      <td>436.285714</td>\n",
       "    </tr>\n",
       "    <tr>\n",
       "      <th>2594</th>\n",
       "      <td>Channel Islands</td>\n",
       "      <td>2020-03-28</td>\n",
       "      <td>579.0</td>\n",
       "      <td>423.571429</td>\n",
       "    </tr>\n",
       "    <tr>\n",
       "      <th>2595</th>\n",
       "      <td>Channel Islands</td>\n",
       "      <td>2020-03-29</td>\n",
       "      <td>667.0</td>\n",
       "      <td>416.285714</td>\n",
       "    </tr>\n",
       "  </tbody>\n",
       "</table>\n",
       "</div>"
      ],
      "text/plain": [
       "       Province/State        Date  Hospitalised       error\n",
       "2593  Channel Islands  2020-03-27         509.0  436.285714\n",
       "2594  Channel Islands  2020-03-28         579.0  423.571429\n",
       "2595  Channel Islands  2020-03-29         667.0  416.285714"
      ]
     },
     "execution_count": 9,
     "metadata": {},
     "output_type": "execute_result"
    }
   ],
   "source": [
    "# Return the top three days with biggest difference between daily value and rolling 7-day mean\n",
    "s = sample_ci.copy()\n",
    "s_rolling = s['Hospitalised'].rolling(window=7).mean()\n",
    "s['error'] = mean_absolute_error(s['Hospitalised'][7:], s_rolling[7:])\n",
    "s.sort_values('error', ascending=False).head(3)"
   ]
  },
  {
   "cell_type": "markdown",
   "metadata": {},
   "source": [
    "### Question 3:\n",
    "\n",
    "The management team had some additional questions around the project where they asked for further feedback to be included in your final presentation. Make sure to answer the questions in the Notebook in Markdown format in preparation for your presentation. The expectation is that you will provide short and direct responses to help them understand the importance and impact of the questions below.\n",
    "\n",
    "> ***Note:*** You can double-click on the markdown cells to edit the text."
   ]
  },
  {
   "cell_type": "markdown",
   "metadata": {},
   "source": [
    "#### Question 3.1 (double click cell to edit)\n",
    "- What is the difference between qualitative and quantitative data? How can these be used in business predictions?\n",
    "\n",
    "YOUR ANSWER HERE."
   ]
  },
  {
   "cell_type": "markdown",
   "metadata": {},
   "source": [
    "#### Question 3.2 (double click cell to edit)\n",
    "- Can you provide you observations around why continuous improvement is required, can we not just implement the project and move on to other pressing matters?\n",
    "\n",
    "YOUR ANSWER HERE."
   ]
  },
  {
   "cell_type": "markdown",
   "metadata": {},
   "source": [
    "#### Question 3.3 (double click cell to edit)\n",
    "- As a government, we adhere to all data protection requirements and have good governance in place. Does that mean we can ignore data ethics? We only work with aggregated data and therefore will not expose any personal details? (Provide an example of how data ethics could apply to this case; two or three sentences max)\n",
    "\n",
    "YOUR ANSWER HERE."
   ]
  },
  {
   "cell_type": "code",
   "execution_count": null,
   "metadata": {},
   "outputs": [],
   "source": []
  }
 ],
 "metadata": {
  "kernelspec": {
   "display_name": "Python 3 (ipykernel)",
   "language": "python",
   "name": "python3"
  },
  "language_info": {
   "codemirror_mode": {
    "name": "ipython",
    "version": 3
   },
   "file_extension": ".py",
   "mimetype": "text/x-python",
   "name": "python",
   "nbconvert_exporter": "python",
   "pygments_lexer": "ipython3",
   "version": "3.9.7"
  }
 },
 "nbformat": 4,
 "nbformat_minor": 4
}
